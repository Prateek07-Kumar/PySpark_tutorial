{
  "nbformat": 4,
  "nbformat_minor": 0,
  "metadata": {
    "colab": {
      "provenance": []
    },
    "kernelspec": {
      "name": "python3",
      "display_name": "Python 3"
    },
    "language_info": {
      "name": "python"
    }
  },
  "cells": [
    {
      "cell_type": "code",
      "execution_count": null,
      "metadata": {
        "id": "aRBjzy4siMZa",
        "colab": {
          "base_uri": "https://localhost:8080/",
          "height": 219
        },
        "outputId": "c1beefbe-19a2-4024-c4bc-0c35f1e1d22c"
      },
      "outputs": [
        {
          "output_type": "execute_result",
          "data": {
            "text/plain": [
              "<pyspark.sql.session.SparkSession at 0x7ab3f620f590>"
            ],
            "text/html": [
              "\n",
              "            <div>\n",
              "                <p><b>SparkSession - in-memory</b></p>\n",
              "                \n",
              "        <div>\n",
              "            <p><b>SparkContext</b></p>\n",
              "\n",
              "            <p><a href=\"http://1be49cf02a36:4040\">Spark UI</a></p>\n",
              "\n",
              "            <dl>\n",
              "              <dt>Version</dt>\n",
              "                <dd><code>v3.5.1</code></dd>\n",
              "              <dt>Master</dt>\n",
              "                <dd><code>local[*]</code></dd>\n",
              "              <dt>AppName</dt>\n",
              "                <dd><code>Understand Plans and DAG</code></dd>\n",
              "            </dl>\n",
              "        </div>\n",
              "        \n",
              "            </div>\n",
              "        "
            ]
          },
          "metadata": {},
          "execution_count": 1
        }
      ],
      "source": [
        "# Spark Session\n",
        "from pyspark.sql import SparkSession\n",
        "\n",
        "spark = (\n",
        "    SparkSession\n",
        "    .builder\n",
        "    .appName(\"Understand Plans and DAG\")\n",
        "    .master(\"local[*]\")\n",
        "    .getOrCreate()\n",
        ")\n",
        "\n",
        "spark"
      ]
    },
    {
      "cell_type": "code",
      "source": [
        "# Disable AQE and Broadcast join\n",
        "\n",
        "spark.conf.set(\"spark.sql.adaptive.enabled\", False)\n",
        "spark.conf.set(\"spark.sql.adaptive.coalescePartitions.enabled\", False)\n",
        "spark.conf.set(\"spark.sql.autoBroadcastJoinThreshold\", -1)"
      ],
      "metadata": {
        "id": "cD5c_-PrP3d3"
      },
      "execution_count": null,
      "outputs": []
    },
    {
      "cell_type": "code",
      "source": [
        "# Check default Parallism\n",
        "\n",
        "spark.sparkContext.defaultParallelism"
      ],
      "metadata": {
        "colab": {
          "base_uri": "https://localhost:8080/"
        },
        "id": "M2uZQTQ7P3aW",
        "outputId": "b867b268-d5a5-45dc-ba99-287461e9a2d5"
      },
      "execution_count": null,
      "outputs": [
        {
          "output_type": "execute_result",
          "data": {
            "text/plain": [
              "2"
            ]
          },
          "metadata": {},
          "execution_count": 3
        }
      ]
    },
    {
      "cell_type": "code",
      "source": [
        "# Create dataframes\n",
        "\n",
        "df_1 = spark.range(4, 200, 2)\n",
        "df_2 = spark.range(2, 200, 4)"
      ],
      "metadata": {
        "id": "woNOB8wpP3YY"
      },
      "execution_count": null,
      "outputs": []
    },
    {
      "cell_type": "code",
      "source": [
        "df_2.rdd.getNumPartitions()"
      ],
      "metadata": {
        "colab": {
          "base_uri": "https://localhost:8080/"
        },
        "id": "-kW2cL2iP3WE",
        "outputId": "9395bb55-b3f4-4086-c0e9-30f64fea34f8"
      },
      "execution_count": null,
      "outputs": [
        {
          "output_type": "execute_result",
          "data": {
            "text/plain": [
              "2"
            ]
          },
          "metadata": {},
          "execution_count": 15
        }
      ]
    },
    {
      "cell_type": "code",
      "source": [
        "# Re-partition data\n",
        "\n",
        "df_3 = df_1.repartition(5)\n",
        "df_4 = df_2.repartition(7)"
      ],
      "metadata": {
        "id": "AOidcqdYP3UI"
      },
      "execution_count": null,
      "outputs": []
    },
    {
      "cell_type": "code",
      "source": [
        "df_4.rdd.getNumPartitions()"
      ],
      "metadata": {
        "colab": {
          "base_uri": "https://localhost:8080/"
        },
        "id": "yeKZVWzlP3SH",
        "outputId": "449a7a77-5039-4c94-ea3a-f6c7aff034f3"
      },
      "execution_count": null,
      "outputs": [
        {
          "output_type": "execute_result",
          "data": {
            "text/plain": [
              "7"
            ]
          },
          "metadata": {},
          "execution_count": 14
        }
      ]
    },
    {
      "cell_type": "code",
      "source": [
        "# Join the dataframes\n",
        "\n",
        "df_joined = df_3.join(df_4, on=\"id\")"
      ],
      "metadata": {
        "id": "krxZC-klP3QB"
      },
      "execution_count": null,
      "outputs": []
    },
    {
      "cell_type": "code",
      "source": [
        "# Get the sum of ids\n",
        "\n",
        "df_sum = df_joined.selectExpr(\"sum(id) as total_sum\")"
      ],
      "metadata": {
        "id": "qUyDSNuRP3Nz"
      },
      "execution_count": null,
      "outputs": []
    },
    {
      "cell_type": "code",
      "source": [
        "# View data\n",
        "df_sum.show()"
      ],
      "metadata": {
        "colab": {
          "base_uri": "https://localhost:8080/"
        },
        "id": "6_7WZIKOP3Lu",
        "outputId": "c198d954-651a-4ef0-d140-41bd227b0ccf"
      },
      "execution_count": null,
      "outputs": [
        {
          "output_type": "stream",
          "name": "stdout",
          "text": [
            "+---------+\n",
            "|total_sum|\n",
            "+---------+\n",
            "|     4998|\n",
            "+---------+\n",
            "\n"
          ]
        }
      ]
    },
    {
      "cell_type": "code",
      "source": [
        "# Explain plan\n",
        "\n",
        "df_sum.explain()"
      ],
      "metadata": {
        "colab": {
          "base_uri": "https://localhost:8080/"
        },
        "id": "O22lH2WpP3Jp",
        "outputId": "9bcdfa02-084d-46f9-91b9-3077d68d6fd9"
      },
      "execution_count": null,
      "outputs": [
        {
          "output_type": "stream",
          "name": "stdout",
          "text": [
            "== Physical Plan ==\n",
            "*(6) HashAggregate(keys=[], functions=[sum(id#0L)])\n",
            "+- Exchange SinglePartition, ENSURE_REQUIREMENTS, [plan_id=194]\n",
            "   +- *(5) HashAggregate(keys=[], functions=[partial_sum(id#0L)])\n",
            "      +- *(5) Project [id#0L]\n",
            "         +- *(5) SortMergeJoin [id#0L], [id#2L], Inner\n",
            "            :- *(2) Sort [id#0L ASC NULLS FIRST], false, 0\n",
            "            :  +- Exchange hashpartitioning(id#0L, 200), ENSURE_REQUIREMENTS, [plan_id=178]\n",
            "            :     +- Exchange RoundRobinPartitioning(5), REPARTITION_BY_NUM, [plan_id=177]\n",
            "            :        +- *(1) Range (4, 200, step=2, splits=2)\n",
            "            +- *(4) Sort [id#2L ASC NULLS FIRST], false, 0\n",
            "               +- Exchange hashpartitioning(id#2L, 200), ENSURE_REQUIREMENTS, [plan_id=185]\n",
            "                  +- Exchange RoundRobinPartitioning(7), REPARTITION_BY_NUM, [plan_id=184]\n",
            "                     +- *(3) Range (2, 200, step=4, splits=2)\n",
            "\n",
            "\n"
          ]
        }
      ]
    },
    {
      "cell_type": "code",
      "source": [
        "# Union the data again to see the skipped stages\n",
        "\n",
        "df_union = df_sum.union(df_4)"
      ],
      "metadata": {
        "id": "mNy4Y2YsP3Hj"
      },
      "execution_count": null,
      "outputs": []
    },
    {
      "cell_type": "code",
      "source": [
        "df_union.show()"
      ],
      "metadata": {
        "colab": {
          "base_uri": "https://localhost:8080/"
        },
        "id": "-f903BCDP3FZ",
        "outputId": "a8b91524-5e4b-4979-f701-954a8dc34cea"
      },
      "execution_count": null,
      "outputs": [
        {
          "output_type": "stream",
          "name": "stdout",
          "text": [
            "+---------+\n",
            "|total_sum|\n",
            "+---------+\n",
            "|     4998|\n",
            "|       14|\n",
            "|       86|\n",
            "|       42|\n",
            "|      146|\n",
            "|      134|\n",
            "|      142|\n",
            "|      162|\n",
            "|       74|\n",
            "|       94|\n",
            "|       34|\n",
            "|      198|\n",
            "|      182|\n",
            "|      126|\n",
            "|      174|\n",
            "|       98|\n",
            "|       10|\n",
            "|       82|\n",
            "|      122|\n",
            "|      186|\n",
            "+---------+\n",
            "only showing top 20 rows\n",
            "\n"
          ]
        }
      ]
    },
    {
      "cell_type": "code",
      "source": [
        "# Explain plan\n",
        "\n",
        "df_union.explain()"
      ],
      "metadata": {
        "colab": {
          "base_uri": "https://localhost:8080/"
        },
        "id": "8O47kXWcwh4p",
        "outputId": "56d56320-8e4d-4532-c257-401bd77a9fa9"
      },
      "execution_count": null,
      "outputs": [
        {
          "output_type": "stream",
          "name": "stdout",
          "text": [
            "== Physical Plan ==\n",
            "Union\n",
            ":- *(6) HashAggregate(keys=[], functions=[sum(id#0L)])\n",
            ":  +- Exchange SinglePartition, ENSURE_REQUIREMENTS, [plan_id=432]\n",
            ":     +- *(5) HashAggregate(keys=[], functions=[partial_sum(id#0L)])\n",
            ":        +- *(5) Project [id#0L]\n",
            ":           +- *(5) SortMergeJoin [id#0L], [id#2L], Inner\n",
            ":              :- *(2) Sort [id#0L ASC NULLS FIRST], false, 0\n",
            ":              :  +- Exchange hashpartitioning(id#0L, 200), ENSURE_REQUIREMENTS, [plan_id=416]\n",
            ":              :     +- Exchange RoundRobinPartitioning(5), REPARTITION_BY_NUM, [plan_id=415]\n",
            ":              :        +- *(1) Range (4, 200, step=2, splits=2)\n",
            ":              +- *(4) Sort [id#2L ASC NULLS FIRST], false, 0\n",
            ":                 +- Exchange hashpartitioning(id#2L, 200), ENSURE_REQUIREMENTS, [plan_id=423]\n",
            ":                    +- Exchange RoundRobinPartitioning(7), REPARTITION_BY_NUM, [plan_id=422]\n",
            ":                       +- *(3) Range (2, 200, step=4, splits=2)\n",
            "+- ReusedExchange [id#24L], Exchange RoundRobinPartitioning(7), REPARTITION_BY_NUM, [plan_id=422]\n",
            "\n",
            "\n"
          ]
        }
      ]
    },
    {
      "cell_type": "code",
      "source": [
        "# DataFrame to RDD\n",
        "\n",
        "df_1.rdd"
      ],
      "metadata": {
        "colab": {
          "base_uri": "https://localhost:8080/"
        },
        "id": "zK427uc3wh1I",
        "outputId": "cda32cbd-31e3-499c-8a24-37f72ee573d0"
      },
      "execution_count": null,
      "outputs": [
        {
          "output_type": "execute_result",
          "data": {
            "text/plain": [
              "MapPartitionsRDD[20] at javaToPython at NativeMethodAccessorImpl.java:0"
            ]
          },
          "metadata": {},
          "execution_count": 23
        }
      ]
    },
    {
      "cell_type": "code",
      "source": [],
      "metadata": {
        "id": "zM_aCiWOwhy6"
      },
      "execution_count": null,
      "outputs": []
    },
    {
      "cell_type": "code",
      "source": [],
      "metadata": {
        "id": "7eh0zq1FwhwL"
      },
      "execution_count": null,
      "outputs": []
    },
    {
      "cell_type": "code",
      "source": [],
      "metadata": {
        "id": "ClGfwSR1whtx"
      },
      "execution_count": null,
      "outputs": []
    },
    {
      "cell_type": "code",
      "source": [],
      "metadata": {
        "id": "lv4YUqFUP3DK"
      },
      "execution_count": null,
      "outputs": []
    }
  ]
}