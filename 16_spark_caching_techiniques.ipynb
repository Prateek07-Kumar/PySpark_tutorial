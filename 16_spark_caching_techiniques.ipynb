{
 "cells": [
  {
   "cell_type": "code",
   "execution_count": 1,
   "metadata": {},
   "outputs": [
    {
     "data": {
      "text/html": [
       "\n",
       "            <div>\n",
       "                <p><b>SparkSession - in-memory</b></p>\n",
       "                \n",
       "        <div>\n",
       "            <p><b>SparkContext</b></p>\n",
       "\n",
       "            <p><a href=\"http://MSI:4040\">Spark UI</a></p>\n",
       "\n",
       "            <dl>\n",
       "              <dt>Version</dt>\n",
       "                <dd><code>v3.3.2</code></dd>\n",
       "              <dt>Master</dt>\n",
       "                <dd><code>local[*]</code></dd>\n",
       "              <dt>AppName</dt>\n",
       "                <dd><code>Understand Caching</code></dd>\n",
       "            </dl>\n",
       "        </div>\n",
       "        \n",
       "            </div>\n",
       "        "
      ],
      "text/plain": [
       "<pyspark.sql.session.SparkSession at 0x1f4d341b380>"
      ]
     },
     "execution_count": 1,
     "metadata": {},
     "output_type": "execute_result"
    }
   ],
   "source": [
    "# Spark Session\n",
    "from pyspark.sql import SparkSession\n",
    "\n",
    "spark = (\n",
    "    SparkSession\n",
    "    .builder\n",
    "    .appName(\"Understand Caching\")\n",
    "    .master(\"local[*]\")\n",
    "    .config(\"spark.executor.memory\", \"512M\")\n",
    "    .getOrCreate()\n",
    ")\n",
    "\n",
    "spark"
   ]
  },
  {
   "cell_type": "code",
   "execution_count": 3,
   "metadata": {},
   "outputs": [],
   "source": [
    "# Read Sales CSV Data - 752MB Size ~ 7.2M Records\n",
    "\n",
    "_schema = \"transacted_at string, trx_id string, retailer_id string, description string, amount double, city_id string\"\n",
    "\n",
    "df = spark.read.format(\"csv\").schema(_schema).option(\"header\", True).load(r\"C:\\Users\\vivek\\Downloads\\pyspark_lecture_tutorial\\data\\emp_sales.csv\")"
   ]
  },
  {
   "cell_type": "code",
   "execution_count": 4,
   "metadata": {},
   "outputs": [
    {
     "name": "stdout",
     "output_type": "stream",
     "text": [
      "+----------------+----------+-----------+--------------------+-------+----------+\n",
      "|   transacted_at|    trx_id|retailer_id|         description| amount|   city_id|\n",
      "+----------------+----------+-----------+--------------------+-------+----------+\n",
      "|25-11-2017 00:30|1995601912| 2077350195|Walgreen       11-25| 197.23| 216510442|\n",
      "|25-11-2017 00:30|1734117021|  644879053|unkn    ppd id: 7...|   8.58| 930259917|\n",
      "|25-11-2017 00:30|1734117022|  847200066|Wal-Mart  ppd id:...|1737.26|1646415505|\n",
      "|25-11-2017 00:30|1734117030| 1953761884|Home Depot     pp...|  384.5| 287177635|\n",
      "|25-11-2017 00:30|1734117089| 1898522855| Target        11-25|  66.33|1855530529|\n",
      "|25-11-2017 00:30|1734117117|  997626433|Sears  ppd id: 85...| 298.87| 957346984|\n",
      "|25-11-2017 00:30|1734117123| 1953761884|unkn   ppd id: 15...|  19.55|  45522086|\n",
      "|25-11-2017 00:30|1734117152| 1429095612|Ikea     arc id: ...|   9.39|1268541279|\n",
      "|25-11-2017 00:30|1734117153|  847200066|unkn        Kings...|2907.57|1483931123|\n",
      "|25-11-2017 00:30|1734117212| 1996661856|unkn    ppd id: 4...| 140.38| 336763936|\n",
      "|25-11-2017 00:30|1734117241|  486576507|              iTunes|2912.67|1663872965|\n",
      "|25-11-2017 00:30|2076947148|  847200066|Wal-Mart         ...|  62.83|1556600840|\n",
      "|25-11-2017 00:30|2076947147|  562903918|McDonald's    ccd...|  31.37| 930259917|\n",
      "|25-11-2017 00:30|2076947146|  511877722|unkn     ccd id: ...|1915.35|1698762556|\n",
      "|25-11-2017 00:30|2076947113| 1996661856|AutoZone  arc id:...| 1523.6|1759612211|\n",
      "|25-11-2017 00:30|2076947018|  902350112|DineEquity    arc...|  22.28|2130657559|\n",
      "|25-11-2017 00:30|2076946994| 1898522855|Target    ppd id:...|2589.93|2074005445|\n",
      "|25-11-2017 00:30|2076946985|  847200066|Wal-Mart    ppd i...|   42.2| 459344513|\n",
      "|25-11-2017 00:30|2076946960|  386167994|Wendy's  ppd id: ...|  14.62| 352952442|\n",
      "|25-11-2017 00:30|2076946954|  486576507|iTunes     ppd id...|  37.42| 485114748|\n",
      "+----------------+----------+-----------+--------------------+-------+----------+\n",
      "only showing top 20 rows\n",
      "\n"
     ]
    }
   ],
   "source": [
    "df.show()"
   ]
  },
  {
   "cell_type": "code",
   "execution_count": 5,
   "metadata": {},
   "outputs": [
    {
     "name": "stdout",
     "output_type": "stream",
     "text": [
      "+----------------+----------+-----------+--------------------+-------+----------+\n",
      "|   transacted_at|    trx_id|retailer_id|         description| amount|   city_id|\n",
      "+----------------+----------+-----------+--------------------+-------+----------+\n",
      "|25-11-2017 00:30|1734117022|  847200066|Wal-Mart  ppd id:...|1737.26|1646415505|\n",
      "|25-11-2017 00:30|1734117030| 1953761884|Home Depot     pp...|  384.5| 287177635|\n",
      "|25-11-2017 00:30|1734117153|  847200066|unkn        Kings...|2907.57|1483931123|\n",
      "|25-11-2017 00:30|1734117241|  486576507|              iTunes|2912.67|1663872965|\n",
      "|25-11-2017 00:30|2076947146|  511877722|unkn     ccd id: ...|1915.35|1698762556|\n",
      "|25-11-2017 00:30|2076947113| 1996661856|AutoZone  arc id:...| 1523.6|1759612211|\n",
      "|25-11-2017 00:30|2076946994| 1898522855|Target    ppd id:...|2589.93|2074005445|\n",
      "|25-11-2017 00:30|2076946121|  562903918|unkn    ccd id: 5...| 315.86|1773943669|\n",
      "|25-11-2017 00:30|2076946063| 1070485878|Amazon.com   arc ...| 785.27|1126623009|\n",
      "|25-11-2017 00:30|2076944979| 1654681099|Delhaize America ...|  303.1|1243655802|\n",
      "|25-11-2017 00:30|2076944941| 1157343460|unkn    ppd id: 1...|2853.33|1141716004|\n",
      "|25-11-2017 00:30|2076944228| 1522061472|         YUM! Brands|1737.45| 592064091|\n",
      "|25-11-2017 00:30|2076944195| 1070485878|unkn   ppd id: 11...|2440.55|1525790470|\n",
      "|25-11-2017 00:30|2076944142|  847200066|Wal-Mart  ppd id:...| 331.63|1345953582|\n",
      "|25-11-2017 00:30|2076944073| 2077350195|Walgreen     arc ...|  396.9|2001708947|\n",
      "|25-11-2017 00:30|2076943052|  103953879|Rite Aid  arc id:...| 1910.8|1998549640|\n",
      "|25-11-2017 00:30|2076942340|  643354906|                BJ's|  372.7| 115209716|\n",
      "|25-11-2017 00:30|2076942282| 1445595477|Meijer    ccd id:...|  366.9|1717498102|\n",
      "|25-11-2017 00:30|2076942274| 2001148981|unkn    ppd id: 2...| 333.41| 559832710|\n",
      "|25-11-2017 00:30|2076942246|    9225731|AT&T Wireless  pp...|  396.9| 407629665|\n",
      "+----------------+----------+-----------+--------------------+-------+----------+\n",
      "only showing top 20 rows\n",
      "\n"
     ]
    }
   ],
   "source": [
    "df.where(\"amount > 300\").show()"
   ]
  },
  {
   "cell_type": "code",
   "execution_count": 21,
   "metadata": {},
   "outputs": [],
   "source": [
    "# Cache DataFrame (cache or persist)\n",
    "\n",
    "# df_cache = df.cache()  #Memory and disc\n",
    "\n",
    "# Cache DataFrame (cache or persist)\n",
    "\n",
    "df_cache = df.where(\"amount > 100\").cache()"
   ]
  },
  {
   "cell_type": "code",
   "execution_count": 22,
   "metadata": {},
   "outputs": [
    {
     "data": {
      "text/plain": [
       "371162"
      ]
     },
     "execution_count": 22,
     "metadata": {},
     "output_type": "execute_result"
    }
   ],
   "source": [
    "df_cache.count()"
   ]
  },
  {
   "cell_type": "code",
   "execution_count": 19,
   "metadata": {},
   "outputs": [
    {
     "name": "stdout",
     "output_type": "stream",
     "text": [
      "+----------------+----------+-----------+--------------------+-------+----------+\n",
      "|   transacted_at|    trx_id|retailer_id|         description| amount|   city_id|\n",
      "+----------------+----------+-----------+--------------------+-------+----------+\n",
      "|25-11-2017 00:30|1734117022|  847200066|Wal-Mart  ppd id:...|1737.26|1646415505|\n",
      "|25-11-2017 00:30|1734117030| 1953761884|Home Depot     pp...|  384.5| 287177635|\n",
      "|25-11-2017 00:30|1734117153|  847200066|unkn        Kings...|2907.57|1483931123|\n",
      "|25-11-2017 00:30|1734117241|  486576507|              iTunes|2912.67|1663872965|\n",
      "|25-11-2017 00:30|2076947146|  511877722|unkn     ccd id: ...|1915.35|1698762556|\n",
      "|25-11-2017 00:30|2076947113| 1996661856|AutoZone  arc id:...| 1523.6|1759612211|\n",
      "|25-11-2017 00:30|2076946994| 1898522855|Target    ppd id:...|2589.93|2074005445|\n",
      "|25-11-2017 00:30|2076946121|  562903918|unkn    ccd id: 5...| 315.86|1773943669|\n",
      "|25-11-2017 00:30|2076946063| 1070485878|Amazon.com   arc ...| 785.27|1126623009|\n",
      "|25-11-2017 00:30|2076944979| 1654681099|Delhaize America ...|  303.1|1243655802|\n",
      "|25-11-2017 00:30|2076944941| 1157343460|unkn    ppd id: 1...|2853.33|1141716004|\n",
      "|25-11-2017 00:30|2076944228| 1522061472|         YUM! Brands|1737.45| 592064091|\n",
      "|25-11-2017 00:30|2076944195| 1070485878|unkn   ppd id: 11...|2440.55|1525790470|\n",
      "|25-11-2017 00:30|2076944142|  847200066|Wal-Mart  ppd id:...| 331.63|1345953582|\n",
      "|25-11-2017 00:30|2076944073| 2077350195|Walgreen     arc ...|  396.9|2001708947|\n",
      "|25-11-2017 00:30|2076943052|  103953879|Rite Aid  arc id:...| 1910.8|1998549640|\n",
      "|25-11-2017 00:30|2076942340|  643354906|                BJ's|  372.7| 115209716|\n",
      "|25-11-2017 00:30|2076942282| 1445595477|Meijer    ccd id:...|  366.9|1717498102|\n",
      "|25-11-2017 00:30|2076942274| 2001148981|unkn    ppd id: 2...| 333.41| 559832710|\n",
      "|25-11-2017 00:30|2076942246|    9225731|AT&T Wireless  pp...|  396.9| 407629665|\n",
      "+----------------+----------+-----------+--------------------+-------+----------+\n",
      "only showing top 20 rows\n",
      "\n"
     ]
    }
   ],
   "source": [
    "df.where(\"amount > 300\").show()"
   ]
  },
  {
   "cell_type": "code",
   "execution_count": 23,
   "metadata": {},
   "outputs": [
    {
     "data": {
      "text/plain": [
       "DataFrame[transacted_at: string, trx_id: string, retailer_id: string, description: string, amount: double, city_id: string]"
      ]
     },
     "execution_count": 23,
     "metadata": {},
     "output_type": "execute_result"
    }
   ],
   "source": [
    "# Remove Cache\n",
    "\n",
    "# df.unpersist()"
   ]
  },
  {
   "cell_type": "code",
   "execution_count": 25,
   "metadata": {},
   "outputs": [],
   "source": [
    "# MEMORY_ONLY, MEMORY_AND_DISK, MEMORY_ONLY_SER, MEMORY_AND_DISK_SER, DISK_ONLY, MEMORY_ONLY_2, MEMORY_AND_DISK_2\n",
    "import pyspark\n",
    "\n",
    "df_persist = df.persist(pyspark.StorageLevel.MEMORY_ONLY_2)"
   ]
  },
  {
   "cell_type": "code",
   "execution_count": 26,
   "metadata": {},
   "outputs": [],
   "source": [
    "df_persist.write.format(\"noop\").mode(\"overwrite\").save()"
   ]
  },
  {
   "cell_type": "code",
   "execution_count": 27,
   "metadata": {},
   "outputs": [],
   "source": [
    "# Remove Cache\n",
    "\n",
    "spark.catalog.clearCache()"
   ]
  },
  {
   "cell_type": "code",
   "execution_count": 28,
   "metadata": {},
   "outputs": [],
   "source": [
    "spark.stop()"
   ]
  },
  {
   "cell_type": "code",
   "execution_count": null,
   "metadata": {},
   "outputs": [],
   "source": []
  }
 ],
 "metadata": {
  "kernelspec": {
   "display_name": "Python 3",
   "language": "python",
   "name": "python3"
  },
  "language_info": {
   "codemirror_mode": {
    "name": "ipython",
    "version": 3
   },
   "file_extension": ".py",
   "mimetype": "text/x-python",
   "name": "python",
   "nbconvert_exporter": "python",
   "pygments_lexer": "ipython3",
   "version": "3.12.1"
  },
  "orig_nbformat": 4
 },
 "nbformat": 4,
 "nbformat_minor": 2
}
