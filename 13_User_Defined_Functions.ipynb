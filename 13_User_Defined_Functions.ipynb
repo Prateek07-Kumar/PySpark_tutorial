{
  "nbformat": 4,
  "nbformat_minor": 0,
  "metadata": {
    "colab": {
      "provenance": []
    },
    "kernelspec": {
      "name": "python3",
      "display_name": "Python 3"
    },
    "language_info": {
      "name": "python"
    }
  },
  "cells": [
    {
      "cell_type": "code",
      "execution_count": null,
      "metadata": {
        "id": "vkuQ-gj7reJG"
      },
      "outputs": [],
      "source": [
        "# # Spark Session\n",
        "# from pyspark.sql import SparkSession\n",
        "\n",
        "# spark = (\n",
        "#     SparkSession\n",
        "#     .builder\n",
        "#     .appName(\"User Defined Functions\")\n",
        "#     .master(\"spark://192.168.1.4:7077\")\n",
        "#     .config(\"spark.executor.cores\", 2)\n",
        "#     .config(\"spark.cores.max\", 6)\n",
        "#     .config(\"spark.executor.memory\", \"512M\")\n",
        "#     .getOrCreate()\n",
        "# )\n",
        "\n",
        "# spark"
      ]
    },
    {
      "cell_type": "code",
      "source": [
        "from pyspark.sql import SparkSession\n",
        "\n",
        "spark = (\n",
        "    SparkSession\n",
        "    .builder\n",
        "    .appName(\"Writing data\")\n",
        "    .master(\"local[*]\")\n",
        "    .getOrCreate()\n",
        ")\n",
        "\n",
        "spark"
      ],
      "metadata": {
        "colab": {
          "base_uri": "https://localhost:8080/",
          "height": 219
        },
        "id": "FH8CRmh0rhI2",
        "outputId": "ca0a8db6-5624-43e8-cd5d-9d99c50ba4d6"
      },
      "execution_count": null,
      "outputs": [
        {
          "output_type": "execute_result",
          "data": {
            "text/plain": [
              "<pyspark.sql.session.SparkSession at 0x787396b98050>"
            ],
            "text/html": [
              "\n",
              "            <div>\n",
              "                <p><b>SparkSession - in-memory</b></p>\n",
              "                \n",
              "        <div>\n",
              "            <p><b>SparkContext</b></p>\n",
              "\n",
              "            <p><a href=\"http://b151c7f09cee:4040\">Spark UI</a></p>\n",
              "\n",
              "            <dl>\n",
              "              <dt>Version</dt>\n",
              "                <dd><code>v3.5.1</code></dd>\n",
              "              <dt>Master</dt>\n",
              "                <dd><code>local[*]</code></dd>\n",
              "              <dt>AppName</dt>\n",
              "                <dd><code>Writing data</code></dd>\n",
              "            </dl>\n",
              "        </div>\n",
              "        \n",
              "            </div>\n",
              "        "
            ]
          },
          "metadata": {},
          "execution_count": 1
        }
      ]
    },
    {
      "cell_type": "code",
      "source": [
        "# # Emp Data & Schema\n",
        "\n",
        "# emp_data = [\n",
        "#     [\"001\",\"101\",\"John Doe\",\"30\",\"Male\",\"50000\",\"2015-01-01\"],\n",
        "#     [\"002\",\"101\",\"Jane Smith\",\"25\",\"Female\",\"45000\",\"2016-02-15\"],\n",
        "#     [\"003\",\"102\",\"Bob Brown\",\"35\",\"Male\",\"55000\",\"2014-05-01\"],\n",
        "#     [\"004\",\"102\",\"Alice Lee\",\"28\",\"Female\",\"48000\",\"2017-09-30\"],\n",
        "#     [\"005\",\"103\",\"Jack Chan\",\"40\",\"Male\",\"60000\",\"2013-04-01\"],\n",
        "#     [\"006\",\"103\",\"Jill Wong\",\"32\",\"Female\",\"52000\",\"2018-07-01\"],\n",
        "#     [\"007\",\"101\",\"James Johnson\",\"42\",\"Male\",\"70000\",\"2012-03-15\"],\n",
        "#     [\"008\",\"102\",\"Kate Kim\",\"29\",\"Female\",\"51000\",\"2019-10-01\"],\n",
        "#     [\"009\",\"103\",\"Tom Tan\",\"33\",\"Male\",\"58000\",\"2016-06-01\"],\n",
        "#     [\"010\",\"104\",\"Lisa Lee\",\"27\",\"Female\",\"47000\",\"2018-08-01\"],\n",
        "#     [\"011\",\"104\",\"David Park\",\"38\",\"Male\",\"65000\",\"2015-11-01\"],\n",
        "#     [\"012\",\"105\",\"Susan Chen\",\"31\",\"Female\",\"54000\",\"2017-02-15\"],\n",
        "#     [\"013\",\"106\",\"Brian Kim\",\"45\",\"Male\",\"75000\",\"2011-07-01\"],\n",
        "#     [\"014\",\"107\",\"Emily Lee\",\"26\",\"Female\",\"46000\",\"2019-01-01\"],\n",
        "#     [\"015\",\"106\",\"Michael Lee\",\"37\",\"Male\",\"63000\",\"2014-09-30\"],\n",
        "#     [\"016\",\"107\",\"Kelly Zhang\",\"30\",\"Female\",\"49000\",\"2018-04-01\"],\n",
        "#     [\"017\",\"105\",\"George Wang\",\"34\",\"Male\",\"57000\",\"2016-03-15\"],\n",
        "#     [\"018\",\"104\",\"Nancy Liu\",\"29\",\"Female\",\"50000\",\"2017-06-01\"],\n",
        "#     [\"019\",\"103\",\"Steven Chen\",\"36\",\"Male\",\"62000\",\"2015-08-01\"],\n",
        "#     [\"020\",\"102\",\"Grace Kim\",\"32\",\"Female\",\"53000\",\"2018-11-01\"]\n",
        "# ]\n",
        "\n",
        "# emp_schema = \"employee_id string, department_id string, name string, age string, gender string, salary string, hire_date string\""
      ],
      "metadata": {
        "id": "7XahCuR2tJrS"
      },
      "execution_count": null,
      "outputs": []
    },
    {
      "cell_type": "code",
      "source": [
        "# # Create emp DataFrame\n",
        "\n",
        "# emp = spark.createDataFrame(data=emp_data, schema=emp_schema)"
      ],
      "metadata": {
        "id": "01Eeu7DotOjw"
      },
      "execution_count": null,
      "outputs": []
    },
    {
      "cell_type": "code",
      "source": [
        "\n",
        "# Read employee data\n",
        "\n",
        "emp_schema = \"employee_id string, department_id string, name string, age string, gender string, salary string, hire_date string\"\n",
        "\n",
        "emp = spark.read.format(\"csv\").option(\"header\", True).schema(emp_schema).load(\"/content/emp.csv\")\n",
        "\n",
        "emp.rdd.getNumPartitions()"
      ],
      "metadata": {
        "colab": {
          "base_uri": "https://localhost:8080/"
        },
        "id": "VT52Pl1Er39O",
        "outputId": "b3b684c6-5766-4884-9481-364f43dd1d89"
      },
      "execution_count": null,
      "outputs": [
        {
          "output_type": "execute_result",
          "data": {
            "text/plain": [
              "1"
            ]
          },
          "metadata": {},
          "execution_count": 6
        }
      ]
    },
    {
      "cell_type": "code",
      "source": [
        "# Create a function to generate 10% of Salary as Bonus\n",
        "\n",
        "def bonus(salary):\n",
        "    return int(salary) * 0.1"
      ],
      "metadata": {
        "id": "NTOG20ImvDls"
      },
      "execution_count": null,
      "outputs": []
    },
    {
      "cell_type": "code",
      "source": [
        "# Register as UDF\n",
        "from pyspark.sql.functions import udf\n",
        "\n",
        "bonus_udf = udf(bonus)\n",
        "\n",
        "spark.udf.register(\"bonus_sql_udf\", bonus, \"double\")"
      ],
      "metadata": {
        "colab": {
          "base_uri": "https://localhost:8080/",
          "height": 104
        },
        "id": "8J85BwbbEZsp",
        "outputId": "8e6b78b5-4296-4f16-b15a-b0a81e27f3f9"
      },
      "execution_count": null,
      "outputs": [
        {
          "output_type": "execute_result",
          "data": {
            "text/plain": [
              "<function __main__.bonus(salary)>"
            ],
            "text/html": [
              "<div style=\"max-width:800px; border: 1px solid var(--colab-border-color);\"><style>\n",
              "      pre.function-repr-contents {\n",
              "        overflow-x: auto;\n",
              "        padding: 8px 12px;\n",
              "        max-height: 500px;\n",
              "      }\n",
              "\n",
              "      pre.function-repr-contents.function-repr-contents-collapsed {\n",
              "        cursor: pointer;\n",
              "        max-height: 100px;\n",
              "      }\n",
              "    </style>\n",
              "    <pre style=\"white-space: initial; background:\n",
              "         var(--colab-secondary-surface-color); padding: 8px 12px;\n",
              "         border-bottom: 1px solid var(--colab-border-color);\"><b>bonus</b><br/>def bonus(salary)</pre><pre class=\"function-repr-contents function-repr-contents-collapsed\" style=\"\"><a class=\"filepath\" style=\"display:none\" href=\"#\">/tmp/ipython-input-3173972359.py</a>&lt;no docstring&gt;</pre></div>"
            ]
          },
          "metadata": {},
          "execution_count": 4
        }
      ]
    },
    {
      "cell_type": "code",
      "source": [
        "# Create new column as bonus using UDF\n",
        "from pyspark.sql.functions import expr\n",
        "\n",
        "emp.withColumn(\"bonus\", expr(\"bonus_sql_udf(salary)\")).show()"
      ],
      "metadata": {
        "colab": {
          "base_uri": "https://localhost:8080/"
        },
        "id": "_iCBbWW0Ebru",
        "outputId": "e310bdf2-e10c-4365-dc2f-be877c69033b"
      },
      "execution_count": null,
      "outputs": [
        {
          "output_type": "stream",
          "name": "stdout",
          "text": [
            "+-----------+-------------+-------------+---+------+------+----------+------+\n",
            "|employee_id|department_id|         name|age|gender|salary| hire_date| bonus|\n",
            "+-----------+-------------+-------------+---+------+------+----------+------+\n",
            "|        001|          101|     John Doe| 30|  Male| 50000|2015-01-01|5000.0|\n",
            "|        002|          101|   Jane Smith| 25|Female| 45000|2016-02-15|4500.0|\n",
            "|        003|          102|    Bob Brown| 35|  Male| 55000|2014-05-01|5500.0|\n",
            "|        004|          102|    Alice Lee| 28|Female| 48000|2017-09-30|4800.0|\n",
            "|        005|          103|    Jack Chan| 40|  Male| 60000|2013-04-01|6000.0|\n",
            "|        006|          103|    Jill Wong| 32|Female| 52000|2018-07-01|5200.0|\n",
            "|        007|          101|James Johnson| 42|  Male| 70000|2012-03-15|7000.0|\n",
            "|        008|          102|     Kate Kim| 29|Female| 51000|2019-10-01|5100.0|\n",
            "|        009|          103|      Tom Tan| 33|  Male| 58000|2016-06-01|5800.0|\n",
            "|        010|          104|     Lisa Lee| 27|Female| 47000|2018-08-01|4700.0|\n",
            "|        011|          104|   David Park| 38|  Male| 65000|2015-11-01|6500.0|\n",
            "|        012|          105|   Susan Chen| 31|Female| 54000|2017-02-15|5400.0|\n",
            "|        013|          106|    Brian Kim| 45|  Male| 75000|2011-07-01|7500.0|\n",
            "|        014|          107|    Emily Lee| 26|Female| 46000|2019-01-01|4600.0|\n",
            "|        015|          106|  Michael Lee| 37|  Male| 63000|2014-09-30|6300.0|\n",
            "|        016|          107|  Kelly Zhang| 30|Female| 49000|2018-04-01|4900.0|\n",
            "|        017|          105|  George Wang| 34|  Male| 57000|2016-03-15|5700.0|\n",
            "|        018|          104|    Nancy Liu| 29|Female| 50000|2017-06-01|5000.0|\n",
            "|        019|          103|  Steven Chen| 36|  Male| 62000|2015-08-01|6200.0|\n",
            "|        020|          102|    Grace Kim| 32|Female| 53000|2018-11-01|5300.0|\n",
            "+-----------+-------------+-------------+---+------+------+----------+------+\n",
            "\n"
          ]
        }
      ]
    },
    {
      "cell_type": "code",
      "source": [
        "# Create new column as bonus without UDF\n",
        "\n",
        "emp.withColumn(\"bonus\", expr(\"salary * 0.1\")).show()"
      ],
      "metadata": {
        "colab": {
          "base_uri": "https://localhost:8080/"
        },
        "id": "lbjB484CEccA",
        "outputId": "a8b9a585-34b5-4339-8ea9-e5d108a41cba"
      },
      "execution_count": null,
      "outputs": [
        {
          "output_type": "stream",
          "name": "stdout",
          "text": [
            "+-----------+-------------+-------------+---+------+------+----------+------+\n",
            "|employee_id|department_id|         name|age|gender|salary| hire_date| bonus|\n",
            "+-----------+-------------+-------------+---+------+------+----------+------+\n",
            "|        001|          101|     John Doe| 30|  Male| 50000|2015-01-01|5000.0|\n",
            "|        002|          101|   Jane Smith| 25|Female| 45000|2016-02-15|4500.0|\n",
            "|        003|          102|    Bob Brown| 35|  Male| 55000|2014-05-01|5500.0|\n",
            "|        004|          102|    Alice Lee| 28|Female| 48000|2017-09-30|4800.0|\n",
            "|        005|          103|    Jack Chan| 40|  Male| 60000|2013-04-01|6000.0|\n",
            "|        006|          103|    Jill Wong| 32|Female| 52000|2018-07-01|5200.0|\n",
            "|        007|          101|James Johnson| 42|  Male| 70000|2012-03-15|7000.0|\n",
            "|        008|          102|     Kate Kim| 29|Female| 51000|2019-10-01|5100.0|\n",
            "|        009|          103|      Tom Tan| 33|  Male| 58000|2016-06-01|5800.0|\n",
            "|        010|          104|     Lisa Lee| 27|Female| 47000|2018-08-01|4700.0|\n",
            "|        011|          104|   David Park| 38|  Male| 65000|2015-11-01|6500.0|\n",
            "|        012|          105|   Susan Chen| 31|Female| 54000|2017-02-15|5400.0|\n",
            "|        013|          106|    Brian Kim| 45|  Male| 75000|2011-07-01|7500.0|\n",
            "|        014|          107|    Emily Lee| 26|Female| 46000|2019-01-01|4600.0|\n",
            "|        015|          106|  Michael Lee| 37|  Male| 63000|2014-09-30|6300.0|\n",
            "|        016|          107|  Kelly Zhang| 30|Female| 49000|2018-04-01|4900.0|\n",
            "|        017|          105|  George Wang| 34|  Male| 57000|2016-03-15|5700.0|\n",
            "|        018|          104|    Nancy Liu| 29|Female| 50000|2017-06-01|5000.0|\n",
            "|        019|          103|  Steven Chen| 36|  Male| 62000|2015-08-01|6200.0|\n",
            "|        020|          102|    Grace Kim| 32|Female| 53000|2018-11-01|5300.0|\n",
            "+-----------+-------------+-------------+---+------+------+----------+------+\n",
            "\n"
          ]
        }
      ]
    },
    {
      "cell_type": "code",
      "source": [
        "# Stop Spark Session\n",
        "\n",
        "spark.stop()"
      ],
      "metadata": {
        "id": "OpW_DaAwEcaS"
      },
      "execution_count": null,
      "outputs": []
    },
    {
      "cell_type": "code",
      "source": [],
      "metadata": {
        "id": "zv4_wj0WEcYT"
      },
      "execution_count": null,
      "outputs": []
    },
    {
      "cell_type": "code",
      "source": [],
      "metadata": {
        "id": "AuSwywsVEcWK"
      },
      "execution_count": null,
      "outputs": []
    },
    {
      "cell_type": "code",
      "source": [],
      "metadata": {
        "id": "O6Bu29Q1EcT7"
      },
      "execution_count": null,
      "outputs": []
    },
    {
      "cell_type": "code",
      "source": [],
      "metadata": {
        "id": "xJrxU9c1EcSM"
      },
      "execution_count": null,
      "outputs": []
    },
    {
      "cell_type": "code",
      "source": [],
      "metadata": {
        "id": "pL4-S2dSEcQO"
      },
      "execution_count": null,
      "outputs": []
    }
  ]
}