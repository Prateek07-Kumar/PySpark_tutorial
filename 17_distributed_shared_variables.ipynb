{
  "nbformat": 4,
  "nbformat_minor": 0,
  "metadata": {
    "colab": {
      "provenance": []
    },
    "kernelspec": {
      "name": "python3",
      "display_name": "Python 3"
    },
    "language_info": {
      "name": "python"
    }
  },
  "cells": [
    {
      "cell_type": "code",
      "source": [
        "# Spark Session\n",
        "from pyspark.sql import SparkSession\n",
        "\n",
        "spark = (\n",
        "    SparkSession\n",
        "    .builder\n",
        "    .appName(\"Distributed Shared Variables\")\n",
        "    # .master(\"spark://192.168.1.12:7077\")\n",
        "    .config(\"spark.cores.max\", 16)\n",
        "    .config(\"spark.executor.cores\", 4)\n",
        "    .config(\"spark.executor.memory\", \"512M\")\n",
        "    .getOrCreate()\n",
        ")\n",
        "\n",
        "spark"
      ],
      "metadata": {
        "colab": {
          "base_uri": "https://localhost:8080/",
          "height": 219
        },
        "id": "DZHMc5pGImsP",
        "outputId": "4243ce93-3e02-4d79-9fc8-af0197e21aed"
      },
      "execution_count": null,
      "outputs": [
        {
          "output_type": "execute_result",
          "data": {
            "text/plain": [
              "<pyspark.sql.session.SparkSession at 0x78568051bfe0>"
            ],
            "text/html": [
              "\n",
              "            <div>\n",
              "                <p><b>SparkSession - in-memory</b></p>\n",
              "                \n",
              "        <div>\n",
              "            <p><b>SparkContext</b></p>\n",
              "\n",
              "            <p><a href=\"http://8c452e545af2:4040\">Spark UI</a></p>\n",
              "\n",
              "            <dl>\n",
              "              <dt>Version</dt>\n",
              "                <dd><code>v3.5.1</code></dd>\n",
              "              <dt>Master</dt>\n",
              "                <dd><code>local[*]</code></dd>\n",
              "              <dt>AppName</dt>\n",
              "                <dd><code>Distributed Shared Variables</code></dd>\n",
              "            </dl>\n",
              "        </div>\n",
              "        \n",
              "            </div>\n",
              "        "
            ]
          },
          "metadata": {},
          "execution_count": 1
        }
      ]
    },
    {
      "cell_type": "code",
      "source": [
        "# # Spark Session\n",
        "# from pyspark.sql import SparkSession\n",
        "\n",
        "# spark = (\n",
        "#     SparkSession\n",
        "#     .builder\n",
        "#     .appName(\"Understand Caching\")\n",
        "#     .master(\"local[*]\")\n",
        "#     .config(\"spark.executor.memory\", \"512M\")\n",
        "#     .getOrCreate()\n",
        "# )\n",
        "\n",
        "# spark"
      ],
      "metadata": {
        "colab": {
          "base_uri": "https://localhost:8080/",
          "height": 219
        },
        "id": "6mNDKh-JFH0B",
        "outputId": "0fc9e86f-a449-472a-dad5-ce059c7987a0"
      },
      "execution_count": null,
      "outputs": [
        {
          "output_type": "execute_result",
          "data": {
            "text/plain": [
              "<pyspark.sql.session.SparkSession at 0x7d2925407bc0>"
            ],
            "text/html": [
              "\n",
              "            <div>\n",
              "                <p><b>SparkSession - in-memory</b></p>\n",
              "                \n",
              "        <div>\n",
              "            <p><b>SparkContext</b></p>\n",
              "\n",
              "            <p><a href=\"http://8c452e545af2:4040\">Spark UI</a></p>\n",
              "\n",
              "            <dl>\n",
              "              <dt>Version</dt>\n",
              "                <dd><code>v3.5.1</code></dd>\n",
              "              <dt>Master</dt>\n",
              "                <dd><code>local[*]</code></dd>\n",
              "              <dt>AppName</dt>\n",
              "                <dd><code>Understand Caching</code></dd>\n",
              "            </dl>\n",
              "        </div>\n",
              "        \n",
              "            </div>\n",
              "        "
            ]
          },
          "metadata": {},
          "execution_count": 1
        }
      ]
    },
    {
      "cell_type": "code",
      "source": [
        "# Read EMP CSV data\n",
        "\n",
        "_schema = \"first_name string, last_name string, job_title string, dob string, email string, phone string, salary double, department_id int\"\n",
        "\n",
        "emp = spark.read.format(\"csv\").schema(_schema).option(\"header\", True).load(r\"/content/employee_records.csv\")"
      ],
      "metadata": {
        "id": "aWLwu9klEdPV"
      },
      "execution_count": null,
      "outputs": []
    },
    {
      "cell_type": "code",
      "source": [
        "# Variable (Lookup)\n",
        "dept_names = {1 : 'Department 1',\n",
        "              2 : 'Department 2',\n",
        "              3 : 'Department 3',\n",
        "              4 : 'Department 4',\n",
        "              5 : 'Department 5',\n",
        "              6 : 'Department 6',\n",
        "              7 : 'Department 7',\n",
        "              8 : 'Department 8',\n",
        "              9 : 'Department 9',\n",
        "              10 : 'Department 10'}"
      ],
      "metadata": {
        "id": "4Nf3O3QsEk9R"
      },
      "execution_count": null,
      "outputs": []
    },
    {
      "cell_type": "code",
      "source": [
        "# Broadcast the variable\n",
        "\n",
        "broadcast_dept_names = spark.sparkContext.broadcast(dept_names)"
      ],
      "metadata": {
        "id": "kf3jUTzfEk_b"
      },
      "execution_count": null,
      "outputs": []
    },
    {
      "cell_type": "code",
      "source": [
        "# Check the value of the variable\n",
        "broadcast_dept_names.value"
      ],
      "metadata": {
        "colab": {
          "base_uri": "https://localhost:8080/"
        },
        "id": "iSK5OaIEElB2",
        "outputId": "eb0bf090-ebbc-41ea-bd10-3596a4dfb52a"
      },
      "execution_count": null,
      "outputs": [
        {
          "output_type": "execute_result",
          "data": {
            "text/plain": [
              "{1: 'Department 1',\n",
              " 2: 'Department 2',\n",
              " 3: 'Department 3',\n",
              " 4: 'Department 4',\n",
              " 5: 'Department 5',\n",
              " 6: 'Department 6',\n",
              " 7: 'Department 7',\n",
              " 8: 'Department 8',\n",
              " 9: 'Department 9',\n",
              " 10: 'Department 10'}"
            ]
          },
          "metadata": {},
          "execution_count": 5
        }
      ]
    },
    {
      "cell_type": "code",
      "source": [
        "# Create UDF to return Department name\n",
        "\n",
        "from pyspark.sql.functions import udf, col\n",
        "\n",
        "@udf\n",
        "def get_dept_names(dept_id):\n",
        "    return broadcast_dept_names.value.get(dept_id)"
      ],
      "metadata": {
        "id": "diKqdcGmElEn"
      },
      "execution_count": null,
      "outputs": []
    },
    {
      "cell_type": "code",
      "source": [
        "emp_final = emp.withColumn(\"dept_name\", get_dept_names(col(\"department_id\")))"
      ],
      "metadata": {
        "id": "3aQ3TwBXElG7"
      },
      "execution_count": null,
      "outputs": []
    },
    {
      "cell_type": "code",
      "source": [
        "emp_final.show()"
      ],
      "metadata": {
        "colab": {
          "base_uri": "https://localhost:8080/"
        },
        "id": "1jqryvQcElJb",
        "outputId": "d49e90bb-8c08-4fb7-82bf-0e29c92b3255"
      },
      "execution_count": null,
      "outputs": [
        {
          "output_type": "stream",
          "name": "stdout",
          "text": [
            "+----------+----------+--------------------+----------+--------------------+--------------------+--------+-------------+---------+\n",
            "|first_name| last_name|           job_title|       dob|               email|               phone|  salary|department_id|dept_name|\n",
            "+----------+----------+--------------------+----------+--------------------+--------------------+--------+-------------+---------+\n",
            "|   Richard|  Morrison|Public relations ...|1973-05-05|melissagarcia@exa...|       (699)525-4827|512653.0|         NULL|     NULL|\n",
            "|     Bobby|  Mccarthy|   Barrister's clerk|1974-04-25|   llara@example.net|  (750)846-1602x7458|999836.0|         NULL|     NULL|\n",
            "|    Dennis|    Norman|Land/geomatics su...|1990-06-24| jturner@example.net|    873.820.0518x825|131900.0|         NULL|     NULL|\n",
            "|      John|    Monroe|        Retail buyer|1968-06-16|  erik33@example.net|    820-813-0557x624|485506.0|         NULL|     NULL|\n",
            "|  Michelle|   Elliott|      Air cabin crew|1975-03-31|tiffanyjohnston@e...|       (705)900-5337|604738.0|         NULL|     NULL|\n",
            "|    Ashley|   Montoya|        Cartographer|1976-01-16|patrickalexandra@...|        211.440.5466|483339.0|         NULL|     NULL|\n",
            "| Nathaniel|     Smith|     Quality manager|1985-06-28|  lori44@example.net|        936-403-3179|419644.0|         NULL|     NULL|\n",
            "|     Faith|  Cummings|Industrial/produc...|1978-07-01| ygordon@example.org|       (889)246-5588|205939.0|         NULL|     NULL|\n",
            "|  Margaret|    Sutton|Administrator, ed...|1975-08-16| diana44@example.net|001-647-530-5036x...|671167.0|         NULL|     NULL|\n",
            "|      Mary|    Sutton|   Freight forwarder|1979-12-28|  ryan36@example.com|   422.562.7254x3159|993829.0|         NULL|     NULL|\n",
            "|      Jake|      King|       Lexicographer|1994-07-11|monica93@example.org|+1-535-652-9715x6...|702101.0|         NULL|     NULL|\n",
            "|   Heather|     Haley|         Music tutor|1981-06-01|stephanie65@examp...|   (652)815-7973x298|570960.0|         NULL|     NULL|\n",
            "|    Thomas|    Thomas|Chartered managem...|2001-07-17|pwilliams@example...|001-245-848-0028x...|339441.0|         NULL|     NULL|\n",
            "|   Leonard|   Carlson|       Art therapist|1990-10-18|gabrielmurray@exa...|          9247590563|469728.0|         NULL|     NULL|\n",
            "|      Mark|      Wood|   Market researcher|1963-10-13|nicholas76@exampl...|   311.439.1606x3342|582291.0|         NULL|     NULL|\n",
            "|    Tracey|Washington|Travel agency man...|1986-05-07|  mark07@example.com|    001-912-206-6456|146456.0|         NULL|     NULL|\n",
            "|   Rachael| Rodriguez|         Media buyer|1966-12-02|griffinmary@examp...| +1-791-344-7586x548|544732.0|         NULL|     NULL|\n",
            "|      Tara|       Liu|   Financial adviser|1998-10-12|alexandraobrien@e...|        216.696.6061|399503.0|         NULL|     NULL|\n",
            "|       Ana|    Joseph|      Retail manager|1995-01-10|  rmorse@example.org|  (726)363-7526x9965|761988.0|         NULL|     NULL|\n",
            "|   Richard|      Hall|Engineer, civil (...|1967-03-02|brandoncardenas@e...| (964)451-9007x22496|660659.0|         NULL|     NULL|\n",
            "+----------+----------+--------------------+----------+--------------------+--------------------+--------+-------------+---------+\n",
            "only showing top 20 rows\n",
            "\n"
          ]
        }
      ]
    },
    {
      "cell_type": "code",
      "source": [
        "# Calculate total salary of Department 6\n",
        "\n",
        "from pyspark.sql.functions import sum\n",
        "\n",
        "emp.where(\"department_id = 6\").groupBy(\"department_id\").agg(sum(\"salary\").cast(\"long\")).show()"
      ],
      "metadata": {
        "colab": {
          "base_uri": "https://localhost:8080/"
        },
        "id": "O1HqhgFIElM-",
        "outputId": "2460c1c4-7853-4721-91ac-4263f57b07e7"
      },
      "execution_count": null,
      "outputs": [
        {
          "output_type": "stream",
          "name": "stdout",
          "text": [
            "+-------------+---------------------------+\n",
            "|department_id|CAST(sum(salary) AS BIGINT)|\n",
            "+-------------+---------------------------+\n",
            "+-------------+---------------------------+\n",
            "\n"
          ]
        }
      ]
    },
    {
      "cell_type": "code",
      "source": [
        "# Accumulators\n",
        "\n",
        "dept_sal = spark.sparkContext.accumulator(0)"
      ],
      "metadata": {
        "id": "6aT5UsLUHnbk"
      },
      "execution_count": null,
      "outputs": []
    },
    {
      "cell_type": "code",
      "source": [
        "# Use foreach\n",
        "\n",
        "def calculate_salary(department_id, salary):\n",
        "    if department_id == 6:\n",
        "        dept_sal.add(salary)\n",
        "\n",
        "emp.foreach(lambda row : calculate_salary(row.department_id, row.salary))"
      ],
      "metadata": {
        "id": "PupgF-98HuGo"
      },
      "execution_count": null,
      "outputs": []
    },
    {
      "cell_type": "code",
      "source": [
        "# View total value\n",
        "\n",
        "dept_sal.value"
      ],
      "metadata": {
        "colab": {
          "base_uri": "https://localhost:8080/"
        },
        "id": "8Rw4bPX4HwMN",
        "outputId": "fdf24d01-54c2-4877-e009-aede00e74d1d"
      },
      "execution_count": null,
      "outputs": [
        {
          "output_type": "execute_result",
          "data": {
            "text/plain": [
              "0"
            ]
          },
          "metadata": {},
          "execution_count": 12
        }
      ]
    },
    {
      "cell_type": "code",
      "source": [
        " # Stop Spark Session\n",
        "\n",
        "spark.stop()"
      ],
      "metadata": {
        "id": "KU7lIRZUHx4l"
      },
      "execution_count": null,
      "outputs": []
    }
  ]
}