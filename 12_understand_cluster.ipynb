{
  "nbformat": 4,
  "nbformat_minor": 0,
  "metadata": {
    "colab": {
      "provenance": []
    },
    "kernelspec": {
      "name": "python3",
      "display_name": "Python 3"
    },
    "language_info": {
      "name": "python"
    }
  },
  "cells": [
    {
      "cell_type": "code",
      "execution_count": null,
      "metadata": {
        "id": "ICh8qc0WL6DB"
      },
      "outputs": [],
      "source": [
        "# # Spark Session\n",
        "# from pyspark.sql import SparkSession\n",
        "\n",
        "# spark = (\n",
        "#     SparkSession\n",
        "#     .builder\n",
        "#     .appName(\"Cluster Execution\")\n",
        "#     .master(\"spark://192.168.1.4:7077\")\n",
        "#     .config(\"spark.executor.instances\", 4)\n",
        "#     .config(\"spark.executor.cores\", 4)\n",
        "#     .config(\"spark.executor.memory\", \"512M\")\n",
        "#     .getOrCreate()\n",
        "# )\n",
        "\n",
        "# spark"
      ]
    },
    {
      "cell_type": "code",
      "source": [
        "# # # # # Spark Session\n",
        "from pyspark.sql import SparkSession\n",
        "\n",
        "spark = (\n",
        "    SparkSession\n",
        "    .builder\n",
        "    .appName(\"Writing data\")\n",
        "    .master(\"local[*]\")\n",
        "    .getOrCreate()\n",
        ")\n",
        "\n",
        "spark"
      ],
      "metadata": {
        "colab": {
          "base_uri": "https://localhost:8080/",
          "height": 219
        },
        "id": "tkYViAvRO7u-",
        "outputId": "402608f1-62cf-449d-cc18-e58f79902eeb"
      },
      "execution_count": null,
      "outputs": [
        {
          "output_type": "execute_result",
          "data": {
            "text/plain": [
              "<pyspark.sql.session.SparkSession at 0x7fc94c24b250>"
            ],
            "text/html": [
              "\n",
              "            <div>\n",
              "                <p><b>SparkSession - in-memory</b></p>\n",
              "                \n",
              "        <div>\n",
              "            <p><b>SparkContext</b></p>\n",
              "\n",
              "            <p><a href=\"http://8f13ebd56ead:4040\">Spark UI</a></p>\n",
              "\n",
              "            <dl>\n",
              "              <dt>Version</dt>\n",
              "                <dd><code>v3.5.1</code></dd>\n",
              "              <dt>Master</dt>\n",
              "                <dd><code>local[*]</code></dd>\n",
              "              <dt>AppName</dt>\n",
              "                <dd><code>Writing data</code></dd>\n",
              "            </dl>\n",
              "        </div>\n",
              "        \n",
              "            </div>\n",
              "        "
            ]
          },
          "metadata": {},
          "execution_count": 1
        }
      ]
    },
    {
      "cell_type": "code",
      "source": [
        "# Create a sample data frame\n",
        "\n",
        "df = spark.range(10)"
      ],
      "metadata": {
        "id": "_-5g-RT_NA-7"
      },
      "execution_count": null,
      "outputs": []
    },
    {
      "cell_type": "code",
      "source": [
        "# Write the data of the data frame\n",
        "\n",
        "df.write.format(\"csv\").option(\"header\", True).save(\"/data/output/15/3/range.csv\")"
      ],
      "metadata": {
        "id": "DldbCYkSOgyZ"
      },
      "execution_count": null,
      "outputs": []
    },
    {
      "cell_type": "code",
      "source": [
        "# Stop Spark Settion\n",
        "\n",
        "spark.stop()"
      ],
      "metadata": {
        "id": "EbyXMHAgP7o4"
      },
      "execution_count": null,
      "outputs": []
    },
    {
      "cell_type": "code",
      "source": [],
      "metadata": {
        "id": "9xpOFDa6m4RQ"
      },
      "execution_count": null,
      "outputs": []
    }
  ]
}